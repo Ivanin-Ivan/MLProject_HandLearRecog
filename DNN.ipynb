{
 "cells": [
  {
   "cell_type": "markdown",
   "id": "8387ebf9-0c24-49b5-af9f-6b24cf6f40b8",
   "metadata": {},
   "source": [
    "# Deep Neural Networks with Keras\n",
    "\n",
    "## Using the mfeat-pix.txt data\n",
    "\n",
    "This code was taken from https://physics.bu.edu/~pankajm/ML-Notebooks/HTML/NB11_CIX-DNN_mnist_Keras.html. Some modifications were applied in order to read the mfeat-pix.txt data."
   ]
  },
  {
   "cell_type": "code",
   "execution_count": 1,
   "id": "008875eb-77bc-473a-b21d-e381a206c781",
   "metadata": {},
   "outputs": [],
   "source": [
    "import pandas as pd\n",
    "import numpy  as np\n",
    "from numpy.linalg import inv\n",
    "from scipy.linalg import block_diag\n",
    "\n",
    "mfeat_pix = pd.read_csv('mfeat-pix.txt',sep='\\s+',header=None)\n",
    "mfeat_pix = pd.DataFrame(mfeat_pix)\n",
    "rows = 15\n",
    "cols = 16\n",
    "\n",
    "pickIndices_trainFinal = [j+200*i for i in range(0, 10, 1) for j in range(0, 180, 1)]\n",
    "pickIndices_testFinal  = [j - 20 + 200*(i+1) for i in range(0, 10, 1) for j in range(0, 20, 1)]\n",
    "\n",
    "#print(pickIndices_trainFinal)\n",
    "#print(pickIndices_testFinal)\n",
    "meanTrainImagesFinal = [([0]*10) for i in range(240)]\n",
    "\n",
    "trainPatternsFinal = []\n",
    "testPatternsFinal  = []\n",
    "\n",
    "for i in pickIndices_trainFinal:\n",
    "    temp_trainFinal = []\n",
    "    for j in range(rows*cols):\n",
    "        temp_trainFinal.append(mfeat_pix[j][i])\n",
    "        #temp_testFinal.append(mfeat_pix[j][i+100])\n",
    "    trainPatternsFinal.append(temp_trainFinal)\n",
    "    #testPatternsFinal.append(temp_testFinal)\n",
    "\n",
    "for i in pickIndices_testFinal:\n",
    "    temp_testFinal = []\n",
    "    for j in range(rows*cols):\n",
    "        #temp_trainFinal.append(mfeat_pix[j][i])\n",
    "        temp_testFinal.append(mfeat_pix[j][i])\n",
    "    #trainPatternsFinal.append(temp_trainFinal)\n",
    "    testPatternsFinal.append(temp_testFinal)"
   ]
  },
  {
   "cell_type": "code",
   "execution_count": 2,
   "id": "cdc882db-d094-4c96-bddf-bf8b1a5f73d8",
   "metadata": {},
   "outputs": [],
   "source": [
    "def cross_validation_split(trainPatternsFinal):\n",
    "  #split to 160 training and 20 testing data for cross validation\n",
    "  pickIndices_train = [j+180*i for i in range(0, 10, 1) for j in range(0, 180, 1)]\n",
    "  pickIndices_test = []\n",
    "  number_of_tests = 20\n",
    "  number_of_digits = 10\n",
    "  for i in range(number_of_digits):\n",
    "    j = 0\n",
    "    while j < number_of_tests:\n",
    "      tmp_pick = 180*i + int(np.random.uniform()*180)\n",
    "      if tmp_pick in pickIndices_test:\n",
    "        j -= 1\n",
    "      else:\n",
    "        pickIndices_test.append(tmp_pick) \n",
    "      j += 1\n",
    "  pickIndices_test.sort()\n",
    "  for obj in pickIndices_test:\n",
    "    pickIndices_train.remove(obj)\n",
    "  #print(pickIndices_train)\n",
    "  #print(pickIndices_test)\n",
    "  #meanTrainImages = [([0]*10) for i in range(240)]\n",
    "\n",
    "  trainPatterns = []\n",
    "  testPatterns  = []\n",
    "\n",
    "  for i in pickIndices_train:\n",
    "      temp_train = []\n",
    "      #print(i)\n",
    "      for j in range(rows*cols):\n",
    "          temp_train.append(trainPatternsFinal[i][j])  \n",
    "      trainPatterns.append(temp_train)\n",
    "\n",
    "  for i in pickIndices_test:\n",
    "      temp_test = []\n",
    "      for j in range(rows*cols):\n",
    "          temp_test.append(trainPatternsFinal[i][j])\n",
    "      testPatterns.append(temp_test)\n",
    "  \n",
    "  meanTrainImages = [] #240x10\n",
    "\n",
    "  for i in range(0, 240):\n",
    "    temp = []\n",
    "    for j in range(0,10):\n",
    "        mean = 0\n",
    "        for k in range(j*160,(j+1)*160):\n",
    "            mean += trainPatterns[k][i]\n",
    "        #print(i,j*100,(j+1)*100, \"mean: \", mean) \n",
    "        temp.append(mean/160)\n",
    "    meanTrainImages.append(temp)\n",
    "\n",
    "  #pd.DataFrame(meanTrainImages)\n",
    "\n",
    "  #pd.DataFrame(trainPatterns)\n",
    "  ##pd.DataFrame(pickIndices_train)\n",
    "  #pd.DataFrame(pickIndices_test)\n",
    "  return trainPatterns, testPatterns, meanTrainImages"
   ]
  },
  {
   "cell_type": "code",
   "execution_count": 3,
   "id": "0981b31f-593e-46e5-8f65-573bab048a39",
   "metadata": {},
   "outputs": [],
   "source": [
    "X_train, X_test, z = cross_validation_split(trainPatternsFinal)\n",
    "X_train = np.array(X_train)\n",
    "X_test = np.array(X_test)"
   ]
  },
  {
   "cell_type": "code",
   "execution_count": 4,
   "id": "4fe96cad-c95a-4ba8-8287-eee8223a11f5",
   "metadata": {},
   "outputs": [
    {
     "data": {
      "text/plain": [
       "((1600, 240), (200, 240), (240, 10))"
      ]
     },
     "execution_count": 4,
     "metadata": {},
     "output_type": "execute_result"
    }
   ],
   "source": [
    "np.shape(X_train), np.shape(X_test), np.shape(z)"
   ]
  },
  {
   "cell_type": "code",
   "execution_count": 5,
   "id": "d54ebf73-904d-486b-9093-fb5108a2d394",
   "metadata": {},
   "outputs": [],
   "source": [
    "testPatternsFinal = np.array(testPatternsFinal)"
   ]
  },
  {
   "cell_type": "code",
   "execution_count": 6,
   "id": "a5b9ffef-2378-4e90-a990-af704180f330",
   "metadata": {},
   "outputs": [],
   "source": [
    "###################################################################################\n",
    "### defining the trainlabels   160 IS THE NUMBER OF DATA\n",
    "b = np.ones(160)\n",
    "trainLabels = block_diag(*([b] * 10))\n",
    "#testLabels  = trainLabels\n",
    "\n",
    "c = np.ones(20)\n",
    "testLabels  = block_diag(*([c] * 10))\n",
    "\n",
    "Y_train = np.transpose(trainLabels)\n",
    "Y_test = np.transpose(testLabels)\n",
    "\n",
    "##################################################################################"
   ]
  },
  {
   "cell_type": "code",
   "execution_count": 7,
   "id": "bf85a0f9-e48b-454f-a6d0-25f9b7bec66b",
   "metadata": {},
   "outputs": [
    {
     "data": {
      "text/plain": [
       "((1600, 240), (200, 240), (200, 10), (1600, 10))"
      ]
     },
     "execution_count": 7,
     "metadata": {},
     "output_type": "execute_result"
    }
   ],
   "source": [
    "np.shape(X_train), np.shape(X_test), np.shape(Y_test), np.shape(Y_train)\n",
    "#pd.DataFrame(correctLabelsTrain)\n",
    "#pd.DataFrame(trainLabels)"
   ]
  },
  {
   "cell_type": "code",
   "execution_count": 8,
   "id": "8b6695e6-1c5c-4dae-a0c1-c37a234d2d19",
   "metadata": {},
   "outputs": [
    {
     "name": "stderr",
     "output_type": "stream",
     "text": [
      "2022-02-06 02:47:05.908543: W tensorflow/stream_executor/platform/default/dso_loader.cc:64] Could not load dynamic library 'libcudart.so.11.0'; dlerror: libcudart.so.11.0: cannot open shared object file: No such file or directory; LD_LIBRARY_PATH: /usr/lib/x86_64-linux-gnu:\n",
      "2022-02-06 02:47:05.908572: I tensorflow/stream_executor/cuda/cudart_stub.cc:29] Ignore above cudart dlerror if you do not have a GPU set up on your machine.\n"
     ]
    }
   ],
   "source": [
    "from __future__ import print_function\n",
    "import keras,sklearn\n",
    "# suppress tensorflow compilation warnings\n",
    "import os\n",
    "os.environ['KMP_DUPLICATE_LIB_OK']='True'\n",
    "import tensorflow as tf\n",
    "os.environ['TF_CPP_MIN_LOG_LEVEL'] = '2'\n",
    "import numpy as np\n",
    "seed=0\n",
    "np.random.seed(seed) # fix random seed\n",
    "tf.random.set_seed(seed)\n",
    "import matplotlib.pyplot as plt"
   ]
  },
  {
   "cell_type": "code",
   "execution_count": 9,
   "id": "408a015e-874f-4702-98c1-b2c8f845cb09",
   "metadata": {},
   "outputs": [
    {
     "name": "stdout",
     "output_type": "stream",
     "text": [
      "an example of a data point with label [0. 0. 0. 0. 0. 0. 0. 0. 0. 1.]\n"
     ]
    },
    {
     "data": {
      "image/png": "[encoded data removed]",
      "text/plain": [
       "<Figure size 288x307.2 with 1 Axes>"
      ]
     },
     "metadata": {
      "needs_background": "light"
     },
     "output_type": "display_data"
    },
    {
     "name": "stdout",
     "output_type": "stream",
     "text": [
      "X_train shape: (1600, 240)\n",
      "Y_train shape: (1600, 10)\n",
      "\n",
      "1600 train samples\n",
      "200 test samples\n"
     ]
    }
   ],
   "source": [
    "from keras.datasets import mnist\n",
    "\n",
    "# input image dimensions\n",
    "num_classes = 10 # 10 digits\n",
    "\n",
    "#img_rows, img_cols = 28, 28 # number of pixels \n",
    "img_rows, img_cols = 16, 15 # number of pixels \n",
    "\n",
    "# the data, shuffled and split between train and test sets\n",
    "#(X_train, Y_train), (X_test, Y_test) = mnist.load_data()\n",
    "\n",
    "# reshape data, depending on Keras backend\n",
    "X_train = X_train.reshape(X_train.shape[0], img_rows*img_cols)\n",
    "X_test = X_test.reshape(X_test.shape[0], img_rows*img_cols)\n",
    "    \n",
    "# cast floats to single precesion\n",
    "X_train = X_train.astype('float32')\n",
    "X_test = X_test.astype('float32')\n",
    "\n",
    "# rescale data in interval [0,1]\n",
    "X_train /= 255\n",
    "X_test /= 255\n",
    "\n",
    "# look at an example of data point\n",
    "print('an example of a data point with label', Y_train[1599])\n",
    "plt.matshow(X_train[1599,:].reshape(16,15),cmap='binary')\n",
    "plt.show()\n",
    "\n",
    "# convert class vectors to binary class matrices\n",
    "#Y_train = keras.utils.np_utils.to_categorical(Y_train, num_classes)\n",
    "#Y_test = keras.utils.np_utils.to_categorical(Y_test, num_classes)\n",
    "\n",
    "print('X_train shape:', X_train.shape)\n",
    "print('Y_train shape:', Y_train.shape)\n",
    "print()\n",
    "print(X_train.shape[0], 'train samples')\n",
    "print(X_test.shape[0], 'test samples')"
   ]
  },
  {
   "cell_type": "code",
   "execution_count": 10,
   "id": "06b511b9-02e6-4ea4-ac52-3277eecbbc5c",
   "metadata": {},
   "outputs": [
    {
     "data": {
      "text/plain": [
       "((1600, 240), (200, 240), (200, 10), (1600, 10))"
      ]
     },
     "execution_count": 10,
     "metadata": {},
     "output_type": "execute_result"
    }
   ],
   "source": [
    "import pandas as pd\n",
    "#pd.DataFrame(X_train)\n",
    "np.shape(X_train), np.shape(X_test), np.shape(Y_test), np.shape(Y_train)\n",
    "#pd.DataFrame(Y_train)"
   ]
  },
  {
   "cell_type": "code",
   "execution_count": 11,
   "id": "2ea2bbaf-d42d-495e-806f-a03277d65c85",
   "metadata": {},
   "outputs": [
    {
     "name": "stdout",
     "output_type": "stream",
     "text": [
      "Model architecture created successfully!\n"
     ]
    }
   ],
   "source": [
    "from keras.models import Sequential\n",
    "from keras.layers import Dense, Dropout, Flatten\n",
    "from keras.layers import Conv2D, MaxPooling2D\n",
    "\n",
    "\n",
    "def create_DNN():\n",
    "    # instantiate model\n",
    "    model = Sequential()\n",
    "    # add a dense all-to-all relu layer\n",
    "    model.add(Dense(400,input_shape=(img_rows*img_cols,), activation='relu'))\n",
    "    # add a dense all-to-all relu layer\n",
    "    model.add(Dense(100, activation='relu'))\n",
    "    # apply dropout with rate 0.5\n",
    "    model.add(Dropout(0.5))\n",
    "    # soft-max layer\n",
    "    model.add(Dense(num_classes, activation='softmax'))\n",
    "    \n",
    "    return model\n",
    "\n",
    "print('Model architecture created successfully!')"
   ]
  },
  {
   "cell_type": "code",
   "execution_count": 17,
   "id": "3ad879a2-e69c-4286-b243-3b1456964c11",
   "metadata": {},
   "outputs": [
    {
     "name": "stdout",
     "output_type": "stream",
     "text": [
      "Model compiled successfully and ready to be trained.\n"
     ]
    }
   ],
   "source": [
    "def compile_model(optimizer=tf.keras.optimizers.Adam()):\n",
    "    # create the mode\n",
    "    model=create_DNN()\n",
    "    # compile the model\n",
    "    model.compile(loss=keras.losses.categorical_crossentropy,\n",
    "                  optimizer=optimizer,\n",
    "                  metrics=['accuracy'])\n",
    "    return model\n",
    "\n",
    "print('Model compiled successfully and ready to be trained.')"
   ]
  },
  {
   "cell_type": "code",
   "execution_count": 18,
   "id": "c29b7011-a54b-40ff-a91d-df6d17a202d3",
   "metadata": {},
   "outputs": [
    {
     "name": "stdout",
     "output_type": "stream",
     "text": [
      "Epoch 1/15\n",
      "50/50 [==============================] - 1s 4ms/step - loss: 2.1742 - accuracy: 0.3781 - val_loss: 1.9218 - val_accuracy: 0.6900\n",
      "Epoch 2/15\n",
      "50/50 [==============================] - 0s 2ms/step - loss: 1.4962 - accuracy: 0.6406 - val_loss: 1.0018 - val_accuracy: 0.8450\n",
      "Epoch 3/15\n",
      "50/50 [==============================] - 0s 3ms/step - loss: 0.8874 - accuracy: 0.7619 - val_loss: 0.6080 - val_accuracy: 0.8200\n",
      "Epoch 4/15\n",
      "50/50 [==============================] - 0s 2ms/step - loss: 0.6420 - accuracy: 0.8150 - val_loss: 0.4430 - val_accuracy: 0.9150\n",
      "Epoch 5/15\n",
      "50/50 [==============================] - 0s 2ms/step - loss: 0.5296 - accuracy: 0.8562 - val_loss: 0.3457 - val_accuracy: 0.9350\n",
      "Epoch 6/15\n",
      "50/50 [==============================] - 0s 2ms/step - loss: 0.4541 - accuracy: 0.8731 - val_loss: 0.2925 - val_accuracy: 0.9350\n",
      "Epoch 7/15\n",
      "50/50 [==============================] - 0s 2ms/step - loss: 0.3813 - accuracy: 0.9025 - val_loss: 0.2627 - val_accuracy: 0.9450\n",
      "Epoch 8/15\n",
      "50/50 [==============================] - 0s 2ms/step - loss: 0.3285 - accuracy: 0.9144 - val_loss: 0.2060 - val_accuracy: 0.9550\n",
      "Epoch 9/15\n",
      "50/50 [==============================] - 0s 2ms/step - loss: 0.3151 - accuracy: 0.9219 - val_loss: 0.1924 - val_accuracy: 0.9650\n",
      "Epoch 10/15\n",
      "50/50 [==============================] - 0s 2ms/step - loss: 0.2970 - accuracy: 0.9162 - val_loss: 0.1837 - val_accuracy: 0.9550\n",
      "Epoch 11/15\n",
      "50/50 [==============================] - 0s 2ms/step - loss: 0.2642 - accuracy: 0.9337 - val_loss: 0.1546 - val_accuracy: 0.9800\n",
      "Epoch 12/15\n",
      "50/50 [==============================] - 0s 2ms/step - loss: 0.2460 - accuracy: 0.9406 - val_loss: 0.1502 - val_accuracy: 0.9700\n",
      "Epoch 13/15\n",
      "50/50 [==============================] - 0s 2ms/step - loss: 0.2221 - accuracy: 0.9444 - val_loss: 0.1487 - val_accuracy: 0.9650\n",
      "Epoch 14/15\n",
      "50/50 [==============================] - 0s 2ms/step - loss: 0.2044 - accuracy: 0.9475 - val_loss: 0.1240 - val_accuracy: 0.9750\n",
      "Epoch 15/15\n",
      "50/50 [==============================] - 0s 2ms/step - loss: 0.1973 - accuracy: 0.9506 - val_loss: 0.1225 - val_accuracy: 0.9800\n"
     ]
    }
   ],
   "source": [
    "# training parameters\n",
    "batch_size = 32\n",
    "epochs = 15\n",
    "\n",
    "# create the deep neural net\n",
    "model_DNN=compile_model()\n",
    "\n",
    "# train DNN and store training info in history\n",
    "history=model_DNN.fit(X_train, Y_train,\n",
    "          batch_size=batch_size,\n",
    "          epochs=epochs,\n",
    "          verbose=1,\n",
    "          validation_data=(X_test, Y_test))"
   ]
  },
  {
   "cell_type": "code",
   "execution_count": 20,
   "id": "52529df8-3ba4-49be-9c34-56ace3ef435d",
   "metadata": {},
   "outputs": [
    {
     "name": "stdout",
     "output_type": "stream",
     "text": [
      "7/7 [==============================] - 0s 2ms/step - loss: 0.1225 - accuracy: 0.9800\n",
      "\n",
      "Test loss: 0.12254557013511658\n",
      "Test accuracy: 0.9800000190734863\n"
     ]
    },
    {
     "data": {
      "image/png": "[encoded data removed]",
      "text/plain": [
       "<Figure size 432x288 with 1 Axes>"
      ]
     },
     "metadata": {
      "needs_background": "light"
     },
     "output_type": "display_data"
    },
    {
     "data": {
      "image/png": "[encoded data removed]",
      "text/plain": [
       "<Figure size 432x288 with 1 Axes>"
      ]
     },
     "metadata": {
      "needs_background": "light"
     },
     "output_type": "display_data"
    }
   ],
   "source": [
    "# evaluate model\n",
    "score = model_DNN.evaluate(X_test, Y_test, verbose=1)\n",
    "\n",
    "# print performance\n",
    "print()\n",
    "print('Test loss:', score[0])\n",
    "print('Test accuracy:', score[1])\n",
    "\n",
    "# look into training history\n",
    "\n",
    "# summarize history for accuracy\n",
    "plt.plot(history.history['accuracy'])\n",
    "plt.plot(history.history['val_accuracy'])\n",
    "plt.ylabel('accuracy') #model accuracy\n",
    "plt.xlabel('epoch')\n",
    "plt.legend(['train', 'validation'], loc='best')\n",
    "plt.show()\n",
    "\n",
    "# summarize history for loss\n",
    "plt.plot(history.history['loss'])\n",
    "plt.plot(history.history['val_loss'])\n",
    "plt.ylabel('loss') #model loss\n",
    "plt.xlabel('epoch')\n",
    "plt.legend(['train', 'validation'], loc='best')\n",
    "plt.show()"
   ]
  },
  {
   "cell_type": "code",
   "execution_count": 21,
   "id": "5d59d388-c591-4790-be89-3ebcc095e672",
   "metadata": {},
   "outputs": [
    {
     "name": "stdout",
     "output_type": "stream",
     "text": [
      "test error rate:  1.9999980926513672 %\n"
     ]
    }
   ],
   "source": [
    "print(\"test error rate: \", (1- score[1])*100, \"%\")"
   ]
  },
  {
   "cell_type": "markdown",
   "id": "3c44ca06-f2f0-46d6-ae3f-5453b90a5ed3",
   "metadata": {},
   "source": [
    "# Modify the Hyperparameters to Optimize Performance of the Model"
   ]
  },
  {
   "cell_type": "code",
   "execution_count": 16,
   "id": "fef84f9b-ad6a-4d8e-8701-3fdc6aa06e2e",
   "metadata": {},
   "outputs": [
    {
     "name": "stderr",
     "output_type": "stream",
     "text": [
      "/tmp/ipykernel_101129/2803528753.py:5: DeprecationWarning: KerasClassifier is deprecated, use Sci-Keras (https://github.com/adriangb/scikeras) instead. See https://www.adriangb.com/scikeras/stable/migration.html for help migrating.\n",
      "  model_gridsearch = KerasClassifier(build_fn=compile_model,\n"
     ]
    },
    {
     "name": "stdout",
     "output_type": "stream",
     "text": [
      "38/38 [==============================] - 0s 1ms/step - loss: 2.2946 - accuracy: 0.1200\n",
      "13/13 [==============================] - 0s 1ms/step - loss: 2.3508 - accuracy: 0.0000e+00\n",
      "38/38 [==============================] - 0s 1ms/step - loss: 2.2913 - accuracy: 0.1608\n",
      "13/13 [==============================] - 0s 1ms/step - loss: 2.3634 - accuracy: 0.0000e+00\n",
      "38/38 [==============================] - 0s 1ms/step - loss: 2.2882 - accuracy: 0.1533\n",
      "13/13 [==============================] - 0s 1ms/step - loss: 2.3761 - accuracy: 0.0000e+00\n",
      "38/38 [==============================] - 0s 1ms/step - loss: 2.2920 - accuracy: 0.1658\n",
      "13/13 [==============================] - 0s 1ms/step - loss: 2.3513 - accuracy: 0.0000e+00\n",
      "38/38 [==============================] - 0s 2ms/step - loss: 2.0038 - accuracy: 0.3275\n",
      "13/13 [==============================] - 0s 995us/step - loss: 3.7796 - accuracy: 0.0000e+00\n",
      "38/38 [==============================] - 0s 2ms/step - loss: 1.9964 - accuracy: 0.3842\n",
      "13/13 [==============================] - 0s 1ms/step - loss: 3.4742 - accuracy: 0.0000e+00\n",
      "38/38 [==============================] - 0s 2ms/step - loss: 1.9946 - accuracy: 0.3708\n",
      "13/13 [==============================] - 0s 978us/step - loss: 3.4694 - accuracy: 0.0000e+00\n",
      "38/38 [==============================] - 0s 3ms/step - loss: 1.9599 - accuracy: 0.3883\n",
      "13/13 [==============================] - 0s 999us/step - loss: 3.7149 - accuracy: 0.0000e+00\n",
      "38/38 [==============================] - 0s 1ms/step - loss: 2.2969 - accuracy: 0.1667\n",
      "13/13 [==============================] - 0s 1ms/step - loss: 2.3240 - accuracy: 0.0000e+00\n",
      "38/38 [==============================] - 0s 1ms/step - loss: 2.3005 - accuracy: 0.1200\n",
      "13/13 [==============================] - 0s 857us/step - loss: 2.3151 - accuracy: 0.0000e+00\n",
      "38/38 [==============================] - 0s 1ms/step - loss: 2.3024 - accuracy: 0.1258\n",
      "13/13 [==============================] - 0s 890us/step - loss: 2.3183 - accuracy: 0.0000e+00\n",
      "38/38 [==============================] - 0s 1ms/step - loss: 2.2956 - accuracy: 0.1625\n",
      "13/13 [==============================] - 0s 932us/step - loss: 2.3288 - accuracy: 0.0000e+00\n",
      "38/38 [==============================] - 0s 1ms/step - loss: 2.3042 - accuracy: 0.0600\n",
      "13/13 [==============================] - 0s 911us/step - loss: 2.2950 - accuracy: 0.3475\n",
      "38/38 [==============================] - 0s 1ms/step - loss: 2.3024 - accuracy: 0.0750\n",
      "13/13 [==============================] - 0s 942us/step - loss: 2.3016 - accuracy: 0.0575\n",
      "38/38 [==============================] - 0s 1ms/step - loss: 2.2996 - accuracy: 0.1217\n",
      "13/13 [==============================] - 0s 937us/step - loss: 2.3110 - accuracy: 0.0750\n",
      "38/38 [==============================] - 0s 2ms/step - loss: 2.3036 - accuracy: 0.0700\n",
      "13/13 [==============================] - 0s 931us/step - loss: 2.3010 - accuracy: 0.0625\n",
      "38/38 [==============================] - 0s 1ms/step - loss: 2.1357 - accuracy: 0.2625\n",
      "13/13 [==============================] - 0s 919us/step - loss: 3.3625 - accuracy: 0.0000e+00\n",
      "38/38 [==============================] - 0s 1ms/step - loss: 2.1519 - accuracy: 0.2933\n",
      "13/13 [==============================] - 0s 892us/step - loss: 3.1115 - accuracy: 0.0000e+00\n",
      "38/38 [==============================] - 0s 1ms/step - loss: 2.1458 - accuracy: 0.1958\n",
      "13/13 [==============================] - 0s 893us/step - loss: 3.3751 - accuracy: 0.0000e+00\n",
      "38/38 [==============================] - 0s 1ms/step - loss: 2.0996 - accuracy: 0.3133\n",
      "13/13 [==============================] - 0s 938us/step - loss: 3.5664 - accuracy: 0.0000e+00\n",
      "38/38 [==============================] - 0s 1ms/step - loss: 2.1928 - accuracy: 0.2600\n",
      "13/13 [==============================] - 0s 957us/step - loss: 2.8916 - accuracy: 0.0000e+00\n",
      "38/38 [==============================] - 0s 1ms/step - loss: 2.2157 - accuracy: 0.2750\n",
      "13/13 [==============================] - 0s 960us/step - loss: 2.7423 - accuracy: 0.0000e+00\n",
      "38/38 [==============================] - 0s 1ms/step - loss: 2.2103 - accuracy: 0.3058\n",
      "13/13 [==============================] - 0s 994us/step - loss: 2.6535 - accuracy: 0.0000e+00\n",
      "38/38 [==============================] - 0s 1ms/step - loss: 2.1977 - accuracy: 0.3600\n",
      "13/13 [==============================] - 0s 906us/step - loss: 2.7305 - accuracy: 0.0000e+00\n",
      "38/38 [==============================] - 1s 2ms/step - loss: 2.0946 - accuracy: 0.3217\n",
      "13/13 [==============================] - 0s 922us/step - loss: 3.4425 - accuracy: 0.0000e+00\n",
      "38/38 [==============================] - 1s 2ms/step - loss: 2.0966 - accuracy: 0.3358\n",
      "13/13 [==============================] - 0s 937us/step - loss: 3.5274 - accuracy: 0.0000e+00\n",
      "38/38 [==============================] - 0s 2ms/step - loss: 2.1118 - accuracy: 0.3517\n",
      "13/13 [==============================] - 0s 1ms/step - loss: 3.4117 - accuracy: 0.0000e+00\n",
      "38/38 [==============================] - 1s 2ms/step - loss: 2.1047 - accuracy: 0.3850\n",
      "13/13 [==============================] - 0s 904us/step - loss: 3.3218 - accuracy: 0.0000e+00\n",
      "50/50 [==============================] - 0s 1ms/step - loss: 2.3046 - accuracy: 0.0769\n",
      "Best: 0.135625 using {'optimizer': 'Adadelta'}\n",
      "0.000000 (0.000000) with: {'optimizer': 'SGD'}\n",
      "0.000000 (0.000000) with: {'optimizer': 'RMSprop'}\n",
      "0.000000 (0.000000) with: {'optimizer': 'Adagrad'}\n",
      "0.135625 (0.122492) with: {'optimizer': 'Adadelta'}\n",
      "0.000000 (0.000000) with: {'optimizer': 'Adam'}\n",
      "0.000000 (0.000000) with: {'optimizer': 'Adamax'}\n",
      "0.000000 (0.000000) with: {'optimizer': 'Nadam'}\n"
     ]
    }
   ],
   "source": [
    "from sklearn.model_selection import GridSearchCV\n",
    "from keras.wrappers.scikit_learn import KerasClassifier\n",
    "\n",
    "# call Keras scikit wrapper\n",
    "model_gridsearch = KerasClassifier(build_fn=compile_model, \n",
    "                        epochs=1, \n",
    "                        batch_size=batch_size, \n",
    "                        verbose=1)\n",
    "\n",
    "# list of allowed optional arguments for the optimizer, see `compile_model()`\n",
    "optimizer = ['SGD', 'RMSprop', 'Adagrad', 'Adadelta', 'Adam', 'Adamax', 'Nadam']\n",
    "# define parameter dictionary\n",
    "param_grid = dict(optimizer=optimizer)\n",
    "# call scikit grid search module\n",
    "grid = GridSearchCV(estimator=model_gridsearch, param_grid=param_grid, n_jobs=1, cv=4)\n",
    "grid_result = grid.fit(X_train,Y_train)\n",
    "\n",
    "# summarize results\n",
    "print(\"Best: %f using %s\" % (grid_result.best_score_, grid_result.best_params_))\n",
    "means = grid_result.cv_results_['mean_test_score']\n",
    "stds = grid_result.cv_results_['std_test_score']\n",
    "params = grid_result.cv_results_['params']\n",
    "for mean, stdev, param in zip(means, stds, params):\n",
    "    print(\"%f (%f) with: %r\" % (mean, stdev, param))"
   ]
  },
  {
   "cell_type": "markdown",
   "id": "4d2d979e-d520-46a2-8637-4c88a7c01b62",
   "metadata": {},
   "source": [
    "# Convolutional Neural Networks with Keras"
   ]
  },
  {
   "cell_type": "code",
   "execution_count": 22,
   "id": "4456875b-e84c-464f-9553-f8d26f8e9708",
   "metadata": {},
   "outputs": [
    {
     "name": "stdout",
     "output_type": "stream",
     "text": [
      "X_train shape: (1600, 16, 15, 1)\n",
      "Y_train shape: (1600, 10)\n",
      "\n",
      "1600 train samples\n",
      "200 test samples\n"
     ]
    }
   ],
   "source": [
    "# reshape data, depending on Keras backend\n",
    "if keras.backend.image_data_format() == 'channels_first':\n",
    "    X_train = X_train.reshape(X_train.shape[0], 1, img_rows, img_cols)\n",
    "    X_test = X_test.reshape(X_test.shape[0], 1, img_rows, img_cols)\n",
    "    input_shape = (1, img_rows, img_cols)\n",
    "else:\n",
    "    X_train = X_train.reshape(X_train.shape[0], img_rows, img_cols, 1)\n",
    "    X_test = X_test.reshape(X_test.shape[0], img_rows, img_cols, 1)\n",
    "    input_shape = (img_rows, img_cols, 1)\n",
    "    \n",
    "print('X_train shape:', X_train.shape)\n",
    "print('Y_train shape:', Y_train.shape)\n",
    "print()\n",
    "print(X_train.shape[0], 'train samples')\n",
    "print(X_test.shape[0], 'test samples')"
   ]
  },
  {
   "cell_type": "code",
   "execution_count": 103,
   "id": "3b9de500-724e-4423-ba90-1eead86adab9",
   "metadata": {},
   "outputs": [],
   "source": [
    "from tensorflow.keras import regularizers\n",
    "\n",
    "def create_CNN():\n",
    "    # instantiate model\n",
    "    model = Sequential()\n",
    "    # add first convolutional layer with 10 filters (dimensionality of output space)\n",
    "    model.add(Conv2D(10, kernel_size=(4, 4),\n",
    "                     activation='relu',\n",
    "                     input_shape=input_shape))\n",
    "    # add 2D pooling layer\n",
    "    model.add(MaxPooling2D(pool_size=(2, 2)))\n",
    "    # add second convolutional layer with 20 filters\n",
    "    model.add(Conv2D(20, (4, 4), activation='relu'))\n",
    "    # apply dropout with rate 0.5\n",
    "    model.add(Dropout(0.45)) \n",
    "    # add 2D pooling layer\n",
    "    model.add(MaxPooling2D(pool_size=(2, 2)))\n",
    "    # flatten data\n",
    "    model.add(Flatten())\n",
    "    # add a dense all-to-all relu layer\n",
    "    model.add(Dense(20*4*4, activation='relu'))\n",
    "    # apply dropout with rate 0.15\n",
    "    model.add(Dropout(0.45))\n",
    "    # soft-max layer\n",
    "    model.add(Dense(num_classes, activation='softmax'))\n",
    "    \n",
    "    # compile the model\n",
    "    model.compile(loss=keras.losses.categorical_crossentropy,\n",
    "                  optimizer='Adam', #'SGD', 'RMSprop', 'Adagrad', 'Adadelta', 'Adam', 'Adamax', 'Nadam'\n",
    "                  metrics=['accuracy'])\n",
    "    \n",
    "    return model\n",
    "\n"
   ]
  },
  {
   "cell_type": "code",
   "execution_count": 104,
   "id": "8f726e33-d059-4c9d-9bfd-74ad497b5c7b",
   "metadata": {},
   "outputs": [
    {
     "data": {
      "text/plain": [
       "((1600, 16, 15, 1), (200, 16, 15, 1))"
      ]
     },
     "execution_count": 104,
     "metadata": {},
     "output_type": "execute_result"
    }
   ],
   "source": [
    "np.shape(X_train), np.shape(X_test)"
   ]
  },
  {
   "cell_type": "code",
   "execution_count": 105,
   "id": "50737bef-6762-4799-bb02-ad52cef6c104",
   "metadata": {},
   "outputs": [
    {
     "name": "stdout",
     "output_type": "stream",
     "text": [
      "Epoch 1/100\n",
      "50/50 [==============================] - 1s 5ms/step - loss: 2.2987 - accuracy: 0.1356 - val_loss: 2.2928 - val_accuracy: 0.2400\n",
      "Epoch 2/100\n",
      "50/50 [==============================] - 0s 3ms/step - loss: 2.2234 - accuracy: 0.2731 - val_loss: 2.1649 - val_accuracy: 0.4350\n",
      "Epoch 3/100\n",
      "50/50 [==============================] - 0s 4ms/step - loss: 1.8400 - accuracy: 0.3963 - val_loss: 1.7411 - val_accuracy: 0.4550\n",
      "Epoch 4/100\n",
      "50/50 [==============================] - 0s 4ms/step - loss: 1.4252 - accuracy: 0.5088 - val_loss: 1.4234 - val_accuracy: 0.5950\n",
      "Epoch 5/100\n",
      "50/50 [==============================] - 0s 4ms/step - loss: 1.2163 - accuracy: 0.5575 - val_loss: 1.2686 - val_accuracy: 0.6200\n",
      "Epoch 6/100\n",
      "50/50 [==============================] - 0s 3ms/step - loss: 1.1245 - accuracy: 0.5944 - val_loss: 1.1239 - val_accuracy: 0.7000\n",
      "Epoch 7/100\n",
      "50/50 [==============================] - 0s 3ms/step - loss: 1.0306 - accuracy: 0.6306 - val_loss: 1.0527 - val_accuracy: 0.7200\n",
      "Epoch 8/100\n",
      "50/50 [==============================] - 0s 3ms/step - loss: 0.9645 - accuracy: 0.6400 - val_loss: 0.9686 - val_accuracy: 0.7550\n",
      "Epoch 9/100\n",
      "50/50 [==============================] - 0s 3ms/step - loss: 0.9131 - accuracy: 0.6506 - val_loss: 0.9053 - val_accuracy: 0.7700\n",
      "Epoch 10/100\n",
      "50/50 [==============================] - 0s 3ms/step - loss: 0.8745 - accuracy: 0.6762 - val_loss: 0.8411 - val_accuracy: 0.8100\n",
      "Epoch 11/100\n",
      "50/50 [==============================] - 0s 3ms/step - loss: 0.8445 - accuracy: 0.6869 - val_loss: 0.8400 - val_accuracy: 0.8150\n",
      "Epoch 12/100\n",
      "50/50 [==============================] - 0s 4ms/step - loss: 0.8118 - accuracy: 0.7025 - val_loss: 0.7906 - val_accuracy: 0.8000\n",
      "Epoch 13/100\n",
      "50/50 [==============================] - 0s 3ms/step - loss: 0.7720 - accuracy: 0.7025 - val_loss: 0.7440 - val_accuracy: 0.8250\n",
      "Epoch 14/100\n",
      "50/50 [==============================] - 0s 4ms/step - loss: 0.7746 - accuracy: 0.7175 - val_loss: 0.7352 - val_accuracy: 0.8400\n",
      "Epoch 15/100\n",
      "50/50 [==============================] - 0s 4ms/step - loss: 0.7475 - accuracy: 0.7312 - val_loss: 0.6902 - val_accuracy: 0.8550\n",
      "Epoch 16/100\n",
      "50/50 [==============================] - 0s 3ms/step - loss: 0.7095 - accuracy: 0.7375 - val_loss: 0.6662 - val_accuracy: 0.8550\n",
      "Epoch 17/100\n",
      "50/50 [==============================] - 0s 3ms/step - loss: 0.7002 - accuracy: 0.7625 - val_loss: 0.6430 - val_accuracy: 0.8450\n",
      "Epoch 18/100\n",
      "50/50 [==============================] - 0s 4ms/step - loss: 0.6921 - accuracy: 0.7525 - val_loss: 0.6397 - val_accuracy: 0.8400\n",
      "Epoch 19/100\n",
      "50/50 [==============================] - 0s 4ms/step - loss: 0.6592 - accuracy: 0.7694 - val_loss: 0.6144 - val_accuracy: 0.8800\n",
      "Epoch 20/100\n",
      "50/50 [==============================] - 0s 4ms/step - loss: 0.6478 - accuracy: 0.7812 - val_loss: 0.5902 - val_accuracy: 0.8750\n",
      "Epoch 21/100\n",
      "50/50 [==============================] - 0s 3ms/step - loss: 0.6072 - accuracy: 0.7869 - val_loss: 0.5638 - val_accuracy: 0.8650\n",
      "Epoch 22/100\n",
      "50/50 [==============================] - 0s 3ms/step - loss: 0.6058 - accuracy: 0.7981 - val_loss: 0.5427 - val_accuracy: 0.8650\n",
      "Epoch 23/100\n",
      "50/50 [==============================] - 0s 4ms/step - loss: 0.5803 - accuracy: 0.7975 - val_loss: 0.5485 - val_accuracy: 0.8800\n",
      "Epoch 24/100\n",
      "50/50 [==============================] - 0s 4ms/step - loss: 0.5935 - accuracy: 0.7887 - val_loss: 0.5526 - val_accuracy: 0.8900\n",
      "Epoch 25/100\n",
      "50/50 [==============================] - 0s 4ms/step - loss: 0.5660 - accuracy: 0.8112 - val_loss: 0.5227 - val_accuracy: 0.8700\n",
      "Epoch 26/100\n",
      "50/50 [==============================] - 0s 4ms/step - loss: 0.5632 - accuracy: 0.8056 - val_loss: 0.4858 - val_accuracy: 0.9000\n",
      "Epoch 27/100\n",
      "50/50 [==============================] - 0s 4ms/step - loss: 0.5533 - accuracy: 0.8044 - val_loss: 0.4652 - val_accuracy: 0.9050\n",
      "Epoch 28/100\n",
      "50/50 [==============================] - 0s 3ms/step - loss: 0.5463 - accuracy: 0.8125 - val_loss: 0.4684 - val_accuracy: 0.9100\n",
      "Epoch 29/100\n",
      "50/50 [==============================] - 0s 4ms/step - loss: 0.5387 - accuracy: 0.8263 - val_loss: 0.4717 - val_accuracy: 0.9100\n",
      "Epoch 30/100\n",
      "50/50 [==============================] - 0s 4ms/step - loss: 0.5101 - accuracy: 0.8256 - val_loss: 0.4352 - val_accuracy: 0.9150\n",
      "Epoch 31/100\n",
      "50/50 [==============================] - 0s 4ms/step - loss: 0.4896 - accuracy: 0.8344 - val_loss: 0.4366 - val_accuracy: 0.8950\n",
      "Epoch 32/100\n",
      "50/50 [==============================] - 0s 3ms/step - loss: 0.4664 - accuracy: 0.8506 - val_loss: 0.4083 - val_accuracy: 0.9150\n",
      "Epoch 33/100\n",
      "50/50 [==============================] - 0s 3ms/step - loss: 0.4903 - accuracy: 0.8338 - val_loss: 0.4021 - val_accuracy: 0.9200\n",
      "Epoch 34/100\n",
      "50/50 [==============================] - 0s 4ms/step - loss: 0.4603 - accuracy: 0.8456 - val_loss: 0.4054 - val_accuracy: 0.9150\n",
      "Epoch 35/100\n",
      "50/50 [==============================] - 0s 4ms/step - loss: 0.4597 - accuracy: 0.8469 - val_loss: 0.3908 - val_accuracy: 0.9100\n",
      "Epoch 36/100\n",
      "50/50 [==============================] - 0s 4ms/step - loss: 0.4451 - accuracy: 0.8619 - val_loss: 0.3758 - val_accuracy: 0.9100\n",
      "Epoch 37/100\n",
      "50/50 [==============================] - 0s 4ms/step - loss: 0.4742 - accuracy: 0.8319 - val_loss: 0.3894 - val_accuracy: 0.9300\n",
      "Epoch 38/100\n",
      "50/50 [==============================] - 0s 4ms/step - loss: 0.4352 - accuracy: 0.8531 - val_loss: 0.3688 - val_accuracy: 0.9200\n",
      "Epoch 39/100\n",
      "50/50 [==============================] - 0s 4ms/step - loss: 0.4243 - accuracy: 0.8712 - val_loss: 0.3531 - val_accuracy: 0.9250\n",
      "Epoch 40/100\n",
      "50/50 [==============================] - 0s 3ms/step - loss: 0.4091 - accuracy: 0.8606 - val_loss: 0.3821 - val_accuracy: 0.9300\n",
      "Epoch 41/100\n",
      "50/50 [==============================] - 0s 4ms/step - loss: 0.4159 - accuracy: 0.8675 - val_loss: 0.3301 - val_accuracy: 0.9300\n",
      "Epoch 42/100\n",
      "50/50 [==============================] - 0s 4ms/step - loss: 0.4373 - accuracy: 0.8550 - val_loss: 0.3374 - val_accuracy: 0.9400\n",
      "Epoch 43/100\n",
      "50/50 [==============================] - 0s 3ms/step - loss: 0.4276 - accuracy: 0.8587 - val_loss: 0.3353 - val_accuracy: 0.9300\n",
      "Epoch 44/100\n",
      "50/50 [==============================] - 0s 4ms/step - loss: 0.3988 - accuracy: 0.8637 - val_loss: 0.3363 - val_accuracy: 0.9350\n",
      "Epoch 45/100\n",
      "50/50 [==============================] - 0s 4ms/step - loss: 0.4004 - accuracy: 0.8675 - val_loss: 0.3449 - val_accuracy: 0.9200\n",
      "Epoch 46/100\n",
      "50/50 [==============================] - 0s 4ms/step - loss: 0.3659 - accuracy: 0.8869 - val_loss: 0.3145 - val_accuracy: 0.9400\n",
      "Epoch 47/100\n",
      "50/50 [==============================] - 0s 4ms/step - loss: 0.3931 - accuracy: 0.8650 - val_loss: 0.3395 - val_accuracy: 0.9350\n",
      "Epoch 48/100\n",
      "50/50 [==============================] - 0s 4ms/step - loss: 0.4021 - accuracy: 0.8681 - val_loss: 0.3361 - val_accuracy: 0.9250\n",
      "Epoch 49/100\n",
      "50/50 [==============================] - 0s 3ms/step - loss: 0.3754 - accuracy: 0.8725 - val_loss: 0.2984 - val_accuracy: 0.9300\n",
      "Epoch 50/100\n",
      "50/50 [==============================] - 0s 4ms/step - loss: 0.3939 - accuracy: 0.8675 - val_loss: 0.3375 - val_accuracy: 0.9350\n",
      "Epoch 51/100\n",
      "50/50 [==============================] - 0s 4ms/step - loss: 0.3819 - accuracy: 0.8737 - val_loss: 0.3041 - val_accuracy: 0.9300\n",
      "Epoch 52/100\n",
      "50/50 [==============================] - 0s 4ms/step - loss: 0.3695 - accuracy: 0.8781 - val_loss: 0.3073 - val_accuracy: 0.9500\n",
      "Epoch 53/100\n",
      "50/50 [==============================] - 0s 4ms/step - loss: 0.3610 - accuracy: 0.8863 - val_loss: 0.2995 - val_accuracy: 0.9350\n",
      "Epoch 54/100\n",
      "50/50 [==============================] - 0s 4ms/step - loss: 0.3500 - accuracy: 0.8875 - val_loss: 0.3001 - val_accuracy: 0.9250\n",
      "Epoch 55/100\n",
      "50/50 [==============================] - 0s 4ms/step - loss: 0.3733 - accuracy: 0.8731 - val_loss: 0.2803 - val_accuracy: 0.9350\n",
      "Epoch 56/100\n",
      "50/50 [==============================] - 0s 4ms/step - loss: 0.3725 - accuracy: 0.8775 - val_loss: 0.3051 - val_accuracy: 0.9300\n",
      "Epoch 57/100\n",
      "50/50 [==============================] - 0s 4ms/step - loss: 0.3828 - accuracy: 0.8825 - val_loss: 0.2715 - val_accuracy: 0.9550\n",
      "Epoch 58/100\n",
      "50/50 [==============================] - 0s 4ms/step - loss: 0.3501 - accuracy: 0.8794 - val_loss: 0.2817 - val_accuracy: 0.9400\n",
      "Epoch 59/100\n",
      "50/50 [==============================] - 0s 4ms/step - loss: 0.3671 - accuracy: 0.8788 - val_loss: 0.2947 - val_accuracy: 0.9500\n",
      "Epoch 60/100\n",
      "50/50 [==============================] - 0s 4ms/step - loss: 0.3275 - accuracy: 0.8963 - val_loss: 0.2713 - val_accuracy: 0.9400\n",
      "Epoch 61/100\n",
      "50/50 [==============================] - 0s 4ms/step - loss: 0.3304 - accuracy: 0.8956 - val_loss: 0.2608 - val_accuracy: 0.9450\n",
      "Epoch 62/100\n",
      "50/50 [==============================] - 0s 4ms/step - loss: 0.3324 - accuracy: 0.8894 - val_loss: 0.2826 - val_accuracy: 0.9400\n",
      "Epoch 63/100\n",
      "50/50 [==============================] - 0s 4ms/step - loss: 0.3210 - accuracy: 0.8950 - val_loss: 0.2728 - val_accuracy: 0.9350\n",
      "Epoch 64/100\n",
      "50/50 [==============================] - 0s 4ms/step - loss: 0.3172 - accuracy: 0.8963 - val_loss: 0.2463 - val_accuracy: 0.9450\n",
      "Epoch 65/100\n",
      "50/50 [==============================] - 0s 4ms/step - loss: 0.3141 - accuracy: 0.8956 - val_loss: 0.2747 - val_accuracy: 0.9400\n",
      "Epoch 66/100\n",
      "50/50 [==============================] - 0s 4ms/step - loss: 0.3277 - accuracy: 0.8900 - val_loss: 0.2512 - val_accuracy: 0.9500\n",
      "Epoch 67/100\n",
      "50/50 [==============================] - 0s 4ms/step - loss: 0.3293 - accuracy: 0.8931 - val_loss: 0.2674 - val_accuracy: 0.9400\n",
      "Epoch 68/100\n",
      "50/50 [==============================] - 0s 4ms/step - loss: 0.3255 - accuracy: 0.9006 - val_loss: 0.2521 - val_accuracy: 0.9400\n",
      "Epoch 69/100\n",
      "50/50 [==============================] - 0s 4ms/step - loss: 0.3396 - accuracy: 0.8788 - val_loss: 0.2448 - val_accuracy: 0.9500\n",
      "Epoch 70/100\n",
      "50/50 [==============================] - 0s 4ms/step - loss: 0.3139 - accuracy: 0.9031 - val_loss: 0.2513 - val_accuracy: 0.9450\n",
      "Epoch 71/100\n",
      "50/50 [==============================] - 0s 3ms/step - loss: 0.2928 - accuracy: 0.9056 - val_loss: 0.2460 - val_accuracy: 0.9550\n",
      "Epoch 72/100\n",
      "50/50 [==============================] - 0s 4ms/step - loss: 0.2971 - accuracy: 0.9025 - val_loss: 0.2464 - val_accuracy: 0.9550\n",
      "Epoch 73/100\n",
      "50/50 [==============================] - 0s 4ms/step - loss: 0.3101 - accuracy: 0.8919 - val_loss: 0.2233 - val_accuracy: 0.9550\n",
      "Epoch 74/100\n",
      "50/50 [==============================] - 0s 4ms/step - loss: 0.3095 - accuracy: 0.9025 - val_loss: 0.2266 - val_accuracy: 0.9450\n",
      "Epoch 75/100\n",
      "50/50 [==============================] - 0s 4ms/step - loss: 0.2978 - accuracy: 0.8988 - val_loss: 0.2282 - val_accuracy: 0.9550\n",
      "Epoch 76/100\n",
      "50/50 [==============================] - 0s 4ms/step - loss: 0.3076 - accuracy: 0.8950 - val_loss: 0.2432 - val_accuracy: 0.9450\n",
      "Epoch 77/100\n",
      "50/50 [==============================] - 0s 4ms/step - loss: 0.2898 - accuracy: 0.9044 - val_loss: 0.2287 - val_accuracy: 0.9650\n",
      "Epoch 78/100\n",
      "50/50 [==============================] - 0s 4ms/step - loss: 0.2968 - accuracy: 0.8994 - val_loss: 0.2367 - val_accuracy: 0.9650\n",
      "Epoch 79/100\n",
      "50/50 [==============================] - 0s 4ms/step - loss: 0.2842 - accuracy: 0.9062 - val_loss: 0.2290 - val_accuracy: 0.9650\n",
      "Epoch 80/100\n",
      "50/50 [==============================] - 0s 4ms/step - loss: 0.2926 - accuracy: 0.8981 - val_loss: 0.2227 - val_accuracy: 0.9550\n",
      "Epoch 81/100\n",
      "50/50 [==============================] - 0s 4ms/step - loss: 0.2901 - accuracy: 0.9044 - val_loss: 0.2271 - val_accuracy: 0.9600\n",
      "Epoch 82/100\n",
      "50/50 [==============================] - 0s 4ms/step - loss: 0.2732 - accuracy: 0.9081 - val_loss: 0.2471 - val_accuracy: 0.9550\n",
      "Epoch 83/100\n",
      "50/50 [==============================] - 0s 4ms/step - loss: 0.2765 - accuracy: 0.9050 - val_loss: 0.2263 - val_accuracy: 0.9450\n",
      "Epoch 84/100\n",
      "50/50 [==============================] - 0s 3ms/step - loss: 0.2894 - accuracy: 0.9087 - val_loss: 0.2228 - val_accuracy: 0.9500\n",
      "Epoch 85/100\n",
      "50/50 [==============================] - 0s 4ms/step - loss: 0.2907 - accuracy: 0.9025 - val_loss: 0.2309 - val_accuracy: 0.9550\n",
      "Epoch 86/100\n",
      "50/50 [==============================] - 0s 4ms/step - loss: 0.2632 - accuracy: 0.9131 - val_loss: 0.2251 - val_accuracy: 0.9600\n",
      "Epoch 87/100\n",
      "50/50 [==============================] - 0s 4ms/step - loss: 0.2841 - accuracy: 0.9019 - val_loss: 0.2039 - val_accuracy: 0.9700\n",
      "Epoch 88/100\n",
      "50/50 [==============================] - 0s 4ms/step - loss: 0.2749 - accuracy: 0.9056 - val_loss: 0.2121 - val_accuracy: 0.9550\n",
      "Epoch 89/100\n",
      "50/50 [==============================] - 0s 4ms/step - loss: 0.2840 - accuracy: 0.9038 - val_loss: 0.1949 - val_accuracy: 0.9550\n",
      "Epoch 90/100\n",
      "50/50 [==============================] - 0s 3ms/step - loss: 0.2878 - accuracy: 0.9000 - val_loss: 0.2121 - val_accuracy: 0.9700\n",
      "Epoch 91/100\n",
      "50/50 [==============================] - 0s 3ms/step - loss: 0.2808 - accuracy: 0.9044 - val_loss: 0.2155 - val_accuracy: 0.9550\n",
      "Epoch 92/100\n",
      "50/50 [==============================] - 0s 3ms/step - loss: 0.2662 - accuracy: 0.9131 - val_loss: 0.1855 - val_accuracy: 0.9600\n",
      "Epoch 93/100\n",
      "50/50 [==============================] - 0s 3ms/step - loss: 0.2725 - accuracy: 0.9150 - val_loss: 0.1979 - val_accuracy: 0.9600\n",
      "Epoch 94/100\n",
      "50/50 [==============================] - 0s 4ms/step - loss: 0.2481 - accuracy: 0.9187 - val_loss: 0.1950 - val_accuracy: 0.9550\n",
      "Epoch 95/100\n",
      "50/50 [==============================] - 0s 3ms/step - loss: 0.2598 - accuracy: 0.9181 - val_loss: 0.1881 - val_accuracy: 0.9550\n",
      "Epoch 96/100\n",
      "50/50 [==============================] - 0s 3ms/step - loss: 0.2550 - accuracy: 0.9150 - val_loss: 0.2101 - val_accuracy: 0.9500\n",
      "Epoch 97/100\n",
      "50/50 [==============================] - 0s 4ms/step - loss: 0.2630 - accuracy: 0.9150 - val_loss: 0.2071 - val_accuracy: 0.9700\n",
      "Epoch 98/100\n",
      "50/50 [==============================] - 0s 3ms/step - loss: 0.2597 - accuracy: 0.9175 - val_loss: 0.1860 - val_accuracy: 0.9600\n",
      "Epoch 99/100\n",
      "50/50 [==============================] - 0s 4ms/step - loss: 0.2696 - accuracy: 0.9087 - val_loss: 0.2024 - val_accuracy: 0.9450\n",
      "Epoch 100/100\n",
      "50/50 [==============================] - 0s 4ms/step - loss: 0.2397 - accuracy: 0.9194 - val_loss: 0.1791 - val_accuracy: 0.9650\n",
      "7/7 [==============================] - 0s 1ms/step - loss: 0.1791 - accuracy: 0.9650\n",
      "\n",
      "Test loss: 0.17910771071910858\n",
      "Test accuracy: 0.9649999737739563\n"
     ]
    }
   ],
   "source": [
    "# training parameters\n",
    "batch_size = 32\n",
    "epochs = 100\n",
    "\n",
    "# create the deep conv net\n",
    "model_CNN=create_CNN()\n",
    "\n",
    "# train CNN\n",
    "history2 = model_CNN.fit(X_train, Y_train,\n",
    "          batch_size=batch_size,\n",
    "          epochs=epochs,\n",
    "          verbose=1,\n",
    "          validation_data=(X_test, Y_test))#testPatternsFinal, X_test\n",
    "\n",
    "# evaliate model\n",
    "score = model_CNN.evaluate(X_test, Y_test, verbose=1)\n",
    "\n",
    "# print performance\n",
    "print()\n",
    "print('Test loss:', score[0])\n",
    "print('Test accuracy:', score[1])"
   ]
  },
  {
   "cell_type": "code",
   "execution_count": 106,
   "id": "e1061180-3801-4b01-816f-5b71221a4a67",
   "metadata": {},
   "outputs": [
    {
     "name": "stdout",
     "output_type": "stream",
     "text": [
      "7/7 [==============================] - 0s 3ms/step - loss: 0.1791 - accuracy: 0.9650\n",
      "\n",
      "Test loss: 0.17910771071910858\n",
      "Test accuracy: 0.9649999737739563\n"
     ]
    },
    {
     "data": {
      "image/png": "[encoded data removed]",
      "text/plain": [
       "<Figure size 432x288 with 1 Axes>"
      ]
     },
     "metadata": {
      "needs_background": "light"
     },
     "output_type": "display_data"
    },
    {
     "data": {
      "image/png": "[encoded data removed]",
      "text/plain": [
       "<Figure size 432x288 with 1 Axes>"
      ]
     },
     "metadata": {
      "needs_background": "light"
     },
     "output_type": "display_data"
    }
   ],
   "source": [
    "# evaluate model\n",
    "score = model_CNN.evaluate(X_test, Y_test, verbose=1)\n",
    "\n",
    "# print performance\n",
    "print()\n",
    "print('Test loss:', score[0])\n",
    "print('Test accuracy:', score[1])\n",
    "\n",
    "# look into training history\n",
    "\n",
    "# summarize history for accuracy\n",
    "plt.plot(history2.history['accuracy'])\n",
    "plt.plot(history2.history['val_accuracy'])\n",
    "plt.ylabel('accuracy') #model accuracy\n",
    "plt.xlabel('epoch')\n",
    "plt.legend(['train', 'validation'], loc='best')\n",
    "plt.show()\n",
    "\n",
    "# summarize history for loss\n",
    "plt.plot(history2.history['loss'])\n",
    "plt.plot(history2.history['val_loss'])\n",
    "plt.ylabel('loss') #model loss\n",
    "plt.xlabel('epoch')\n",
    "plt.legend(['train', 'validation'], loc='best')\n",
    "plt.show()"
   ]
  },
  {
   "cell_type": "code",
   "execution_count": 107,
   "id": "207dc216-c132-48e6-af3b-504d053bf713",
   "metadata": {},
   "outputs": [
    {
     "name": "stdout",
     "output_type": "stream",
     "text": [
      "X_train shape: (1600, 16, 15, 1)\n",
      "Y_train shape: (1600, 10)\n",
      "\n",
      "1600 train samples\n",
      "200 test samples\n"
     ]
    }
   ],
   "source": [
    "# reshape data, depending on Keras backend\n",
    "if keras.backend.image_data_format() == 'channels_first':\n",
    "    testPatternsFinal = testPatternsFinal.reshape(testPatternsFinal.shape[0], 1, img_rows, img_cols)\n",
    "    input_shape = (1, img_rows, img_cols)\n",
    "else:\n",
    "    testPatternsFinal = testPatternsFinal.reshape(testPatternsFinal.shape[0], img_rows, img_cols, 1)\n",
    "    input_shape = (img_rows, img_cols, 1)\n",
    "    \n",
    "print('X_train shape:', X_train.shape)\n",
    "print('Y_train shape:', Y_train.shape)\n",
    "print()\n",
    "print(X_train.shape[0], 'train samples')\n",
    "print(testPatternsFinal.shape[0], 'test samples')"
   ]
  },
  {
   "cell_type": "code",
   "execution_count": 108,
   "id": "5fcf9164-568c-469d-ad63-adb54c57acfc",
   "metadata": {},
   "outputs": [
    {
     "name": "stdout",
     "output_type": "stream",
     "text": [
      "7/7 [==============================] - 0s 2ms/step - loss: 134.6316 - accuracy: 0.7000\n",
      "\n",
      "Test loss: 134.63157653808594\n",
      "Test accuracy: 0.699999988079071\n"
     ]
    }
   ],
   "source": [
    "# evaliate model\n",
    "score = model_CNN.evaluate(testPatternsFinal, Y_test, verbose=1)\n",
    "\n",
    "# print performance\n",
    "print()\n",
    "print('Test loss:', score[0])\n",
    "print('Test accuracy:', score[1])"
   ]
  },
  {
   "cell_type": "code",
   "execution_count": null,
   "id": "96c0c683-c651-458c-bc0b-5ceb9c633ada",
   "metadata": {},
   "outputs": [],
   "source": []
  },
  {
   "cell_type": "code",
   "execution_count": null,
   "id": "597c5e75-3013-493c-b7f7-591670581f7f",
   "metadata": {},
   "outputs": [],
   "source": []
  }
 ],
 "metadata": {
  "kernelspec": {
   "display_name": "Python 3 (ipykernel)",
   "language": "python",
   "name": "python3"
  },
  "language_info": {
   "codemirror_mode": {
    "name": "ipython",
    "version": 3
   },
   "file_extension": ".py",
   "mimetype": "text/x-python",
   "name": "python",
   "nbconvert_exporter": "python",
   "pygments_lexer": "ipython3",
   "version": "3.9.7"
  }
 },
 "nbformat": 4,
 "nbformat_minor": 5
}
