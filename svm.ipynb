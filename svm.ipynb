{
 "cells": [
  {
   "cell_type": "code",
   "execution_count": 2,
   "id": "c20cac1f-8fa1-42b0-bcf4-873782a1e55c",
   "metadata": {},
   "outputs": [
    {
     "name": "stdout",
     "output_type": "stream",
     "text": [
      "1\n",
      "2\n",
      "3\n",
      "4\n",
      "Baseline classifier using an SVM.\n",
      "9785 of 10000 values correct.\n",
      "<class 'numpy.ndarray'>\n"
     ]
    }
   ],
   "source": [
    "import mnist_loader \n",
    "\n",
    "# Third-party libraries\n",
    "from sklearn import svm\n",
    "\n",
    "def svm_baseline():\n",
    "    training_data, validation_data, test_data = mnist_loader.load_data()\n",
    "    # train\n",
    "    print('1')\n",
    "    clf = svm.SVC()\n",
    "    print('2')\n",
    "    clf.fit(training_data[0], training_data[1])\n",
    "    # test\n",
    "    print('3')\n",
    "    predictions = [int(a) for a in clf.predict(test_data[0])]\n",
    "    print('4')\n",
    "    num_correct = sum(int(a == y) for a, y in zip(predictions, test_data[1]))\n",
    "    print(\"Baseline classifier using an SVM.\")\n",
    "    print(\"%s of %s values correct.\" % (num_correct, len(test_data[1])))\n",
    "    print(type(test_data[1]))\n",
    "\n",
    "if __name__ == \"__main__\":\n",
    "    svm_baseline()\n",
    "    "
   ]
  },
  {
   "cell_type": "code",
   "execution_count": 1,
   "id": "46483fb1-e149-499a-8afa-f8d184e346ea",
   "metadata": {},
   "outputs": [
    {
     "name": "stdout",
     "output_type": "stream",
     "text": [
      "1\n",
      "2\n",
      "3\n",
      "4\n",
      "Baseline classifier using an SVM.\n",
      "20 of 199 values correct.\n",
      "<class 'numpy.ndarray'>\n"
     ]
    }
   ],
   "source": [
    "import mfeat_loader \n",
    "\n",
    "# Third-party libraries\n",
    "from sklearn import svm\n",
    "\n",
    "def svm_baseline():\n",
    "    training_data, validation_data, test_data = mfeat_loader.load_data()\n",
    "    # train\n",
    "    print('1')\n",
    "    clf = svm.SVC()\n",
    "    print('2')\n",
    "    clf.fit(training_data[0], training_data[1])\n",
    "    # test\n",
    "    print('3')\n",
    "    predictions = [int(a) for a in clf.predict(test_data[0])]\n",
    "    print('4')\n",
    "    num_correct = sum(int(a == y) for a, y in zip(predictions, test_data[1]))\n",
    "    print(\"Baseline classifier using an SVM.\")\n",
    "    print(\"%s of %s values correct.\" % (num_correct, len(test_data[1])))\n",
    "    #print(type(test_data[1]))\n",
    "\n",
    "if __name__ == \"__main__\":\n",
    "    svm_baseline()\n",
    "    "
   ]
  },
  {
   "cell_type": "code",
   "execution_count": null,
   "id": "47950047-54bc-4138-bbaa-24eb56125e9f",
   "metadata": {},
   "outputs": [],
   "source": []
  }
 ],
 "metadata": {
  "kernelspec": {
   "display_name": "Python 3 (ipykernel)",
   "language": "python",
   "name": "python3"
  },
  "language_info": {
   "codemirror_mode": {
    "name": "ipython",
    "version": 3
   },
   "file_extension": ".py",
   "mimetype": "text/x-python",
   "name": "python",
   "nbconvert_exporter": "python",
   "pygments_lexer": "ipython3",
   "version": "3.9.7"
  }
 },
 "nbformat": 4,
 "nbformat_minor": 5
}
